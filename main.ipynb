{
 "cells": [
  {
   "cell_type": "code",
   "execution_count": null,
   "id": "de9404d4",
   "metadata": {},
   "outputs": [],
   "source": [
    "import torch"
   ]
  }
 ],
 "metadata": {
  "language_info": {
   "name": "python"
  }
 },
 "nbformat": 4,
 "nbformat_minor": 5
}
